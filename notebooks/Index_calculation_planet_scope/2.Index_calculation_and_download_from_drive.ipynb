{
 "cells": [
  {
   "cell_type": "markdown",
   "metadata": {},
   "source": [
    "# Process for PlanetScope Image Download\n",
    "\n",
    "### Considerations:\n",
    "\n",
    "1. The image was already downloaded from the PlanetScope repository and uploaded to Google Cloud Earth Engine Asset.\n",
    "2. This was done to avoid the high time in calculating the indexes; it is more efficient to do this using geemap and/or Python.\n",
    "\n",
    "### Index \n",
    "\n",
    "### 1. Prepare the image for download\n",
    "### 2. The image exported to Drive needs to be downloaded from Drive to the local machine"
   ]
  },
  {
   "cell_type": "code",
   "execution_count": null,
   "metadata": {},
   "outputs": [],
   "source": [
    "# Import the libraries\n",
    "import geemap\n",
    "import ee"
   ]
  },
  {
   "cell_type": "code",
   "execution_count": 2,
   "metadata": {},
   "outputs": [
    {
     "data": {
      "text/html": [
       "\n",
       "            <style>\n",
       "                .geemap-dark {\n",
       "                    --jp-widgets-color: white;\n",
       "                    --jp-widgets-label-color: white;\n",
       "                    --jp-ui-font-color1: white;\n",
       "                    --jp-layout-color2: #454545;\n",
       "                    background-color: #383838;\n",
       "                }\n",
       "\n",
       "                .geemap-dark .jupyter-button {\n",
       "                    --jp-layout-color3: #383838;\n",
       "                }\n",
       "\n",
       "                .geemap-colab {\n",
       "                    background-color: var(--colab-primary-surface-color, white);\n",
       "                }\n",
       "\n",
       "                .geemap-colab .jupyter-button {\n",
       "                    --jp-layout-color3: var(--colab-primary-surface-color, white);\n",
       "                }\n",
       "            </style>\n",
       "            "
      ],
      "text/plain": [
       "<IPython.core.display.HTML object>"
      ]
     },
     "metadata": {},
     "output_type": "display_data"
    },
    {
     "data": {
      "text/plain": [
       "True"
      ]
     },
     "execution_count": 2,
     "metadata": {},
     "output_type": "execute_result"
    }
   ],
   "source": [
    "# Authenticate your GEE account\n",
    "ee.Authenticate()"
   ]
  },
  {
   "cell_type": "code",
   "execution_count": 5,
   "metadata": {},
   "outputs": [
    {
     "data": {
      "text/html": [
       "\n",
       "            <style>\n",
       "                .geemap-dark {\n",
       "                    --jp-widgets-color: white;\n",
       "                    --jp-widgets-label-color: white;\n",
       "                    --jp-ui-font-color1: white;\n",
       "                    --jp-layout-color2: #454545;\n",
       "                    background-color: #383838;\n",
       "                }\n",
       "\n",
       "                .geemap-dark .jupyter-button {\n",
       "                    --jp-layout-color3: #383838;\n",
       "                }\n",
       "\n",
       "                .geemap-colab {\n",
       "                    background-color: var(--colab-primary-surface-color, white);\n",
       "                }\n",
       "\n",
       "                .geemap-colab .jupyter-button {\n",
       "                    --jp-layout-color3: var(--colab-primary-surface-color, white);\n",
       "                }\n",
       "            </style>\n",
       "            "
      ],
      "text/plain": [
       "<IPython.core.display.HTML object>"
      ]
     },
     "metadata": {},
     "output_type": "display_data"
    },
    {
     "data": {
      "text/html": [
       "<p>To authorize access needed by Earth Engine, open the following\n",
       "        URL in a web browser and follow the instructions:</p>\n",
       "        <p><a href=https://code.earthengine.google.com/client-auth?scopes=https%3A//www.googleapis.com/auth/earthengine%20https%3A//www.googleapis.com/auth/cloud-platform%20https%3A//www.googleapis.com/auth/devstorage.full_control&request_id=Bj4ChMrJxH7-MyrlCIu72LD2fVb3Wdh12WQjBQhn9es&tc=i3f7pvLT4ipoFV5iG_cdJhvM5HUEqyzjP7X_KuFFpGs&cc=NiyvVifAq_N80LbW94d8wWABS3Jbf8xO7VhUQTpxx94>https://code.earthengine.google.com/client-auth?scopes=https%3A//www.googleapis.com/auth/earthengine%20https%3A//www.googleapis.com/auth/cloud-platform%20https%3A//www.googleapis.com/auth/devstorage.full_control&request_id=Bj4ChMrJxH7-MyrlCIu72LD2fVb3Wdh12WQjBQhn9es&tc=i3f7pvLT4ipoFV5iG_cdJhvM5HUEqyzjP7X_KuFFpGs&cc=NiyvVifAq_N80LbW94d8wWABS3Jbf8xO7VhUQTpxx94</a></p>\n",
       "        <p>The authorization workflow will generate a code, which you should paste in the box below.</p>\n",
       "        "
      ],
      "text/plain": [
       "<IPython.core.display.HTML object>"
      ]
     },
     "metadata": {},
     "output_type": "display_data"
    },
    {
     "name": "stdout",
     "output_type": "stream",
     "text": [
      "\n",
      "Successfully saved authorization token.\n"
     ]
    }
   ],
   "source": [
    "# Importar librerias al entorno\n",
    "import ee\n",
    "\n",
    "# Iniciar Sesión en GEE (si les da un error incluso pegando el link de autenticación hay que conectar GEE con Google Cloud)\n",
    "ee.Authenticate()\n",
    "ee.Initialize()"
   ]
  },
  {
   "cell_type": "code",
   "execution_count": 64,
   "metadata": {},
   "outputs": [
    {
     "data": {
      "text/html": [
       "\n",
       "            <style>\n",
       "                .geemap-dark {\n",
       "                    --jp-widgets-color: white;\n",
       "                    --jp-widgets-label-color: white;\n",
       "                    --jp-ui-font-color1: white;\n",
       "                    --jp-layout-color2: #454545;\n",
       "                    background-color: #383838;\n",
       "                }\n",
       "\n",
       "                .geemap-dark .jupyter-button {\n",
       "                    --jp-layout-color3: #383838;\n",
       "                }\n",
       "\n",
       "                .geemap-colab {\n",
       "                    background-color: var(--colab-primary-surface-color, white);\n",
       "                }\n",
       "\n",
       "                .geemap-colab .jupyter-button {\n",
       "                    --jp-layout-color3: var(--colab-primary-surface-color, white);\n",
       "                }\n",
       "            </style>\n",
       "            "
      ],
      "text/plain": [
       "<IPython.core.display.HTML object>"
      ]
     },
     "metadata": {},
     "output_type": "display_data"
    },
    {
     "data": {
      "application/vnd.jupyter.widget-view+json": {
       "model_id": "077e0546e3e04927835b4e2c07b7d837",
       "version_major": 2,
       "version_minor": 0
      },
      "text/plain": [
       "Map(center=[39.22, -8.97], controls=(WidgetControl(options=['position', 'transparent_bg'], widget=SearchDataGU…"
      ]
     },
     "metadata": {},
     "output_type": "display_data"
    }
   ],
   "source": [
    "# Add a map to display the image and index\n",
    "Map = geemap.Map(center = (39.22, -8.97), zoom = 6)\n",
    "Map"
   ]
  },
  {
   "cell_type": "code",
   "execution_count": 65,
   "metadata": {},
   "outputs": [
    {
     "data": {
      "text/html": [
       "\n",
       "            <style>\n",
       "                .geemap-dark {\n",
       "                    --jp-widgets-color: white;\n",
       "                    --jp-widgets-label-color: white;\n",
       "                    --jp-ui-font-color1: white;\n",
       "                    --jp-layout-color2: #454545;\n",
       "                    background-color: #383838;\n",
       "                }\n",
       "\n",
       "                .geemap-dark .jupyter-button {\n",
       "                    --jp-layout-color3: #383838;\n",
       "                }\n",
       "\n",
       "                .geemap-colab {\n",
       "                    background-color: var(--colab-primary-surface-color, white);\n",
       "                }\n",
       "\n",
       "                .geemap-colab .jupyter-button {\n",
       "                    --jp-layout-color3: var(--colab-primary-surface-color, white);\n",
       "                }\n",
       "            </style>\n",
       "            "
      ],
      "text/plain": [
       "<IPython.core.display.HTML object>"
      ]
     },
     "metadata": {},
     "output_type": "display_data"
    }
   ],
   "source": [
    "Map.user_roi.getInfo()\n",
    "#Define the geometry of the study area\n",
    "geometry = Map.user_roi"
   ]
  },
  {
   "cell_type": "code",
   "execution_count": 66,
   "metadata": {},
   "outputs": [
    {
     "data": {
      "text/html": [
       "\n",
       "            <style>\n",
       "                .geemap-dark {\n",
       "                    --jp-widgets-color: white;\n",
       "                    --jp-widgets-label-color: white;\n",
       "                    --jp-ui-font-color1: white;\n",
       "                    --jp-layout-color2: #454545;\n",
       "                    background-color: #383838;\n",
       "                }\n",
       "\n",
       "                .geemap-dark .jupyter-button {\n",
       "                    --jp-layout-color3: #383838;\n",
       "                }\n",
       "\n",
       "                .geemap-colab {\n",
       "                    background-color: var(--colab-primary-surface-color, white);\n",
       "                }\n",
       "\n",
       "                .geemap-colab .jupyter-button {\n",
       "                    --jp-layout-color3: var(--colab-primary-surface-color, white);\n",
       "                }\n",
       "            </style>\n",
       "            "
      ],
      "text/plain": [
       "<IPython.core.display.HTML object>"
      ]
     },
     "metadata": {},
     "output_type": "display_data"
    },
    {
     "data": {
      "text/plain": [
       "{'type': 'Point', 'coordinates': [-8.607292, 38.134876]}"
      ]
     },
     "execution_count": 66,
     "metadata": {},
     "output_type": "execute_result"
    }
   ],
   "source": [
    "Map.user_roi.getInfo()"
   ]
  },
  {
   "cell_type": "markdown",
   "metadata": {},
   "source": [
    "## The points of each downloaded area are:\n",
    "1. Quercus_1: geometry = ee.Geometry.Point([-8.796394, 39.205319])\n",
    "2. Quercus_2: geometry = ee.Geometry.Point([-8.82684, 38.964544])\n",
    "3. Quercus_3: geometry = ee.Geometry.Point([-9.130675, 38.625997])\n",
    "4. Quercus_4: geometry = ee.Geometry.Point([-7.688382, 38.655686])\n",
    "5. Quercus_5: geometry = ee.Geometry.Point([-8.515074, 38.333295])\n",
    "6. Quercus_6: geometry = ee.Geometry.Point([-8.548938, 38.175632])\n",
    "7. Quercus_7: geometry = ee.Geometry.Point([-8.727648, 38.118924])\n",
    "8. Quercus_8: geometry = ee.Geometry.Point([-8.73125, 38.092178])\n",
    "9. Quercus_9: geometry = ee.Geometry.Point([-8.510705, 37.186572])\n",
    "10. Quercus_10: geometry = ee.Geometry.Point([-8.691703, 37.92617])\n",
    "11. Quercus_11: geometry = ee.Geometry.Point([-8.607292, 38.134876])"
   ]
  },
  {
   "cell_type": "code",
   "execution_count": 67,
   "metadata": {},
   "outputs": [
    {
     "data": {
      "text/html": [
       "\n",
       "            <style>\n",
       "                .geemap-dark {\n",
       "                    --jp-widgets-color: white;\n",
       "                    --jp-widgets-label-color: white;\n",
       "                    --jp-ui-font-color1: white;\n",
       "                    --jp-layout-color2: #454545;\n",
       "                    background-color: #383838;\n",
       "                }\n",
       "\n",
       "                .geemap-dark .jupyter-button {\n",
       "                    --jp-layout-color3: #383838;\n",
       "                }\n",
       "\n",
       "                .geemap-colab {\n",
       "                    background-color: var(--colab-primary-surface-color, white);\n",
       "                }\n",
       "\n",
       "                .geemap-colab .jupyter-button {\n",
       "                    --jp-layout-color3: var(--colab-primary-surface-color, white);\n",
       "                }\n",
       "            </style>\n",
       "            "
      ],
      "text/plain": [
       "<IPython.core.display.HTML object>"
      ]
     },
     "metadata": {},
     "output_type": "display_data"
    }
   ],
   "source": [
    "# Asegurarnos de la creación de una geometría / Por si no la crearon en el mapa anterior.\n",
    "geometry = ee.Geometry.Point([-8.607292, 38.134876])\n"
   ]
  },
  {
   "cell_type": "code",
   "execution_count": null,
   "metadata": {},
   "outputs": [
    {
     "data": {
      "text/html": [
       "\n",
       "            <style>\n",
       "                .geemap-dark {\n",
       "                    --jp-widgets-color: white;\n",
       "                    --jp-widgets-label-color: white;\n",
       "                    --jp-ui-font-color1: white;\n",
       "                    --jp-layout-color2: #454545;\n",
       "                    background-color: #383838;\n",
       "                }\n",
       "\n",
       "                .geemap-dark .jupyter-button {\n",
       "                    --jp-layout-color3: #383838;\n",
       "                }\n",
       "\n",
       "                .geemap-colab {\n",
       "                    background-color: var(--colab-primary-surface-color, white);\n",
       "                }\n",
       "\n",
       "                .geemap-colab .jupyter-button {\n",
       "                    --jp-layout-color3: var(--colab-primary-surface-color, white);\n",
       "                }\n",
       "            </style>\n",
       "            "
      ],
      "text/plain": [
       "<IPython.core.display.HTML object>"
      ]
     },
     "metadata": {},
     "output_type": "display_data"
    }
   ],
   "source": [
    "# Call the image collection\n",
    "collection = ee.ImageCollection(\"projects/ee-jesusc461/assets/Planet_quercus/Quercus_11\")\n",
    "\n",
    "# Filter by date (in this case is the same month of soil sampling)\n",
    "collection = collection.filterDate('2023-05-01', '2024-05-31').filterBounds(geometry) \n",
    "\n",
    "# This function maps spectral indices for salinity Mapping using PlanetScope Imagery\n",
    "def addIndices(img):\n",
    "    # NDVI\n",
    "    NDVI = img.normalizedDifference(['nir', 'red']).rename('NDVI')\n",
    "    \n",
    "    # SR (Simple Ratio)\n",
    "    SR = img.select('nir').divide(img.select('red')).rename('SR')\n",
    "    \n",
    "    # GCVI (Green Chlorophyll Vegetation Index)\n",
    "    GCVI = img.expression('(NIR / GREEN) - 1', {'NIR': img.select('nir'), 'GREEN': img.select('green')}).rename('GCVI')\n",
    "    \n",
    "    # NDWI (Normalized Difference Water Index)\n",
    "    NDWI = img.expression('(GREEN - NIR) / (GREEN + NIR)', {'NIR': img.select('nir'), 'GREEN': img.select('green')}).rename('NDWI')\n",
    "    \n",
    "    # VARI (Visible Atmospherically Resistant Index)\n",
    "    VARI = img.expression('(Green - Red) / (Green + Red - Blue)', {'Blue': img.select('blue'), 'Red': img.select('red'), 'Green': img.select('green')}).rename('VARI')\n",
    "    \n",
    "    # GRVI (Green Ratio Vegetation Index)\n",
    "    GRVI = img.expression('(NIR / GREEN)', {'NIR': img.select('nir'), 'GREEN': img.select('green')}).rename('GRVI')\n",
    "    \n",
    "    # GNDVI (Green Normalized Difference Vegetation Index)\n",
    "    GNDVI = img.normalizedDifference(['nir', 'green']).rename('GNDVI')\n",
    "    \n",
    "    # SAVI (Soil Adjusted Vegetation Index)\n",
    "    SAVI = img.expression('(NIR - RED) / ((NIR + RED + 0.5) * 1.5)', {'NIR': img.select('nir'), 'RED': img.select('red')}).rename('SAVI')\n",
    "    \n",
    "    # ARVI (Atmospherically Resistant Vegetation Index)\n",
    "    ARVI = img.expression(\n",
    "        '(NIR - (RED - 1.0 * (RED - BLUE))) / (NIR + (RED - 1.0 * (RED - BLUE)))',\n",
    "        {'NIR': img.select('nir'), 'RED': img.select('red'), 'BLUE': img.select('blue')}\n",
    "    ).rename('ARVI')\n",
    "    \n",
    "    # EVI (Enhanced Vegetation Index)\n",
    "    EVI = img.expression(\n",
    "        '2.5 * ((NIR - RED) / (NIR + 6.0 * RED - 7.5 * BLUE + 1.0))',\n",
    "        {'NIR': img.select('nir'), 'RED': img.select('red'), 'BLUE': img.select('blue')}\n",
    "    ).rename('EVI')\n",
    "    \n",
    "    # DVI (Difference Vegetation Index)\n",
    "    DVI = img.expression('NIR - RED', {'NIR': img.select('nir'), 'RED': img.select('red')}).rename('DVI')\n",
    "\n",
    "    return img.addBands([NDVI, SR, GCVI, NDWI, VARI, GRVI, GNDVI, SAVI, ARVI, EVI, DVI])\n",
    "\n",
    "# Example usage\n",
    "ps = collection\n",
    "#Add the indices\n",
    "ps = ps.map(addIndices)\n",
    "composite = ps \\\n",
    "              .mean()\n",
    "              \n",
    "Map.addLayer(composite, {'bands': ['red',  'green',  'blue'], 'min': 201, 'max': 2464}, 'RGB')"
   ]
  },
  {
   "cell_type": "code",
   "execution_count": 69,
   "metadata": {},
   "outputs": [
    {
     "data": {
      "text/html": [
       "\n",
       "            <style>\n",
       "                .geemap-dark {\n",
       "                    --jp-widgets-color: white;\n",
       "                    --jp-widgets-label-color: white;\n",
       "                    --jp-ui-font-color1: white;\n",
       "                    --jp-layout-color2: #454545;\n",
       "                    background-color: #383838;\n",
       "                }\n",
       "\n",
       "                .geemap-dark .jupyter-button {\n",
       "                    --jp-layout-color3: #383838;\n",
       "                }\n",
       "\n",
       "                .geemap-colab {\n",
       "                    background-color: var(--colab-primary-surface-color, white);\n",
       "                }\n",
       "\n",
       "                .geemap-colab .jupyter-button {\n",
       "                    --jp-layout-color3: var(--colab-primary-surface-color, white);\n",
       "                }\n",
       "            </style>\n",
       "            "
      ],
      "text/plain": [
       "<IPython.core.display.HTML object>"
      ]
     },
     "metadata": {},
     "output_type": "display_data"
    },
    {
     "name": "stdout",
     "output_type": "stream",
     "text": [
      "Started export task for 2023-05-07_strip_6489944_composite\n",
      "Started export task for 2023-05-07_strip_6490009_composite\n",
      "Started export task for 2023-05-10_strip_6497430_composite\n",
      "Started export task for 2023-05-12_strip_6502573_composite\n",
      "Started export task for 2023-05-13_strip_6504891_composite\n",
      "Started export task for 2023-05-14_strip_6507361_composite\n",
      "Started export task for 2023-05-14_strip_6508079_composite\n",
      "Started export task for 2023-05-15_strip_6509880_composite\n",
      "Started export task for 2023-05-15_strip_6510066_composite\n",
      "Started export task for 2023-05-19_strip_6519238_composite\n",
      "Started export task for 2023-06-14_strip_6577873_composite\n",
      "Started export task for 2023-06-17_strip_6584624_composite\n",
      "Started export task for 2023-06-22_strip_6596271_composite\n",
      "Started export task for 2023-06-25_strip_6603163_composite\n",
      "Started export task for 2023-06-28_strip_6610360_composite\n",
      "Started export task for 2023-06-29_strip_6612834_composite\n",
      "Started export task for 2023-07-03_strip_6621765_composite\n",
      "Started export task for 2023-07-09_strip_6635421_composite\n",
      "Started export task for 2023-07-09_strip_6635738_composite\n",
      "Started export task for 2023-07-13_strip_6646136_composite\n",
      "Started export task for 2023-07-17_strip_6654484_composite\n",
      "Started export task for 2023-07-19_strip_6656614_composite\n",
      "Started export task for 2023-07-23_strip_6665828_composite\n",
      "Started export task for 2023-07-28_strip_6676712_composite\n",
      "Started export task for 2023-07-28_strip_6677040_composite\n",
      "Started export task for 2023-07-28_strip_6677448_composite\n",
      "Started export task for 2023-07-31_strip_6683291_composite\n",
      "Started export task for 2023-08-03_strip_6690442_composite\n",
      "Started export task for 2023-08-05_strip_6694497_composite\n",
      "Started export task for 2023-08-06_strip_6696351_composite\n",
      "Started export task for 2023-08-07_strip_6699243_composite\n",
      "Started export task for 2023-08-07_strip_6699946_composite\n",
      "Started export task for 2023-08-27_strip_6738155_composite\n",
      "Started export task for 2023-08-29_strip_6741025_composite\n",
      "Started export task for 2023-09-01_strip_6747163_composite\n",
      "Started export task for 2023-09-14_strip_6772984_composite\n",
      "Started export task for 2023-09-23_strip_6791700_composite\n",
      "Started export task for 2023-09-25_strip_6796536_composite\n",
      "Started export task for 2023-09-29_strip_6803648_composite\n",
      "Started export task for 2023-10-01_strip_6810349_composite\n",
      "Started export task for 2023-10-03_strip_6812925_composite\n",
      "Started export task for 2023-10-04_strip_6814633_composite\n",
      "Started export task for 2023-10-04_strip_6815845_composite\n",
      "Started export task for 2023-10-05_strip_6818252_composite\n",
      "Started export task for 2023-10-08_strip_6823658_composite\n",
      "Started export task for 2023-10-08_strip_6823904_composite\n",
      "Started export task for 2023-10-11_strip_6828624_composite\n",
      "Started export task for 2023-10-12_strip_6831108_composite\n",
      "Started export task for 2023-10-12_strip_6831981_composite\n",
      "Started export task for 2023-11-15_strip_6902030_composite\n",
      "Started export task for 2023-11-22_strip_6916655_composite\n",
      "Started export task for 2023-11-23_strip_6917975_composite\n",
      "Started export task for 2023-11-24_strip_6920168_composite\n",
      "Started export task for 2023-12-14_strip_6965809_composite\n",
      "Started export task for 2023-12-14_strip_6966021_composite\n",
      "Started export task for 2023-12-14_strip_6967015_composite\n",
      "Started export task for 2023-12-15_strip_6968615_composite\n",
      "Started export task for 2023-12-15_strip_6968658_composite\n",
      "Started export task for 2023-12-16_strip_6971212_composite\n",
      "Started export task for 2023-12-16_strip_6972115_composite\n",
      "Started export task for 2023-12-17_strip_6973404_composite\n",
      "Started export task for 2023-12-17_strip_6974011_composite\n",
      "Started export task for 2023-12-18_strip_6975898_composite\n",
      "Started export task for 2023-12-22_strip_6985313_composite\n",
      "Started export task for 2023-12-22_strip_6985515_composite\n",
      "Started export task for 2024-01-05_strip_7020295_composite\n",
      "Started export task for 2024-01-21_strip_7055282_composite\n",
      "Started export task for 2024-01-21_strip_7055351_composite\n",
      "Started export task for 2024-01-24_strip_7061778_composite\n",
      "Started export task for 2024-01-24_strip_7061923_composite\n",
      "Started export task for 2024-02-01_strip_7079761_composite\n",
      "Started export task for 2024-02-03_strip_7083837_composite\n",
      "Started export task for 2024-02-18_strip_7116940_composite\n",
      "Started export task for 2024-02-18_strip_7117037_composite\n",
      "Started export task for 2024-02-27_strip_7136359_composite\n",
      "Started export task for 2024-02-28_strip_7138805_composite\n",
      "Started export task for 2024-02-28_strip_7139501_composite\n",
      "Started export task for 2024-03-01_strip_7143489_composite\n",
      "Started export task for 2024-03-13_strip_7171104_composite\n",
      "Started export task for 2024-03-20_strip_7186746_composite\n",
      "Started export task for 2024-03-20_strip_7187731_composite\n",
      "Started export task for 2024-04-12_strip_7237904_composite\n",
      "Started export task for 2024-04-12_strip_7238658_composite\n",
      "Started export task for 2024-04-13_strip_7240295_composite\n",
      "Started export task for 2024-04-16_strip_7246683_composite\n",
      "Started export task for 2024-04-22_strip_7259031_composite\n",
      "Started export task for 2024-04-25_strip_7265151_composite\n",
      "Started export task for 2024-05-07_strip_7290266_composite\n",
      "Started export task for 2024-05-07_strip_7290322_composite\n",
      "Started export task for 2024-05-10_strip_7296921_composite\n",
      "Started export task for 2024-05-25_strip_7327840_composite\n",
      "Started export task for 2024-05-26_strip_7331302_composite\n",
      "Started export task for 2024-05-27_strip_7332706_composite\n",
      "Started export task for 2024-05-28_strip_7337515_composite\n",
      "Started export task for 2024-05-30_strip_7339425_composite\n"
     ]
    }
   ],
   "source": [
    "# Import necessary libraries\n",
    "import ee\n",
    "\n",
    "# Ensure Earth Engine is initialized\n",
    "ee.Initialize()\n",
    "\n",
    "# Define the export function for Google Drive\n",
    "def export_to_drive(image_collection, folder_name=\"Quercus_11\"):\n",
    "    # Iterate over each image in the collection\n",
    "    image_list = image_collection.toList(image_collection.size())  # Convert collection to list for iteration\n",
    "    num_images = image_collection.size().getInfo()  # Get the number of images\n",
    "\n",
    "    for i in range(num_images):\n",
    "        # Select the image by index and convert it to float32\n",
    "        img = ee.Image(image_list.get(i)).toFloat()  # Convert image to float32\n",
    "        \n",
    "        # Get the image ID or a unique identifier for naming\n",
    "        img_id = img.id().getInfo() if img.id().getInfo() else f\"image_{i + 1}\"\n",
    "\n",
    "        # Set up export task\n",
    "        task = ee.batch.Export.image.toDrive(\n",
    "            image=img,\n",
    "            description=f\"Export_{img_id}\",\n",
    "            folder=folder_name,\n",
    "            fileNamePrefix=f\"{img_id}_indices\",\n",
    "            scale=3,  # 3m for PlanetScope\n",
    "            maxPixels=1e13\n",
    "        )\n",
    "        \n",
    "        # Start the export task\n",
    "        task.start()\n",
    "        print(f\"Started export task for {img_id}\")\n",
    "\n",
    "# Call the export function with the processed collection\n",
    "export_to_drive(ps)\n"
   ]
  }
 ],
 "metadata": {
  "kernelspec": {
   "display_name": "base",
   "language": "python",
   "name": "python3"
  },
  "language_info": {
   "codemirror_mode": {
    "name": "ipython",
    "version": 3
   },
   "file_extension": ".py",
   "mimetype": "text/x-python",
   "name": "python",
   "nbconvert_exporter": "python",
   "pygments_lexer": "ipython3",
   "version": "3.11.7"
  }
 },
 "nbformat": 4,
 "nbformat_minor": 2
}
